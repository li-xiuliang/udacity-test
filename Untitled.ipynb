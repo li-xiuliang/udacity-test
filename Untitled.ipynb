{
 "cells": [
  {
   "cell_type": "code",
   "execution_count": null,
   "metadata": {},
   "outputs": [],
   "source": [
    "import os, os.path\n",
    "import zipfile\n",
    "\n",
    "def zip_dir(dirname, zipfilename):\n",
    "    filelist = []\n",
    "    if os.path.isfile(dirname):\n",
    "        filelist.append(dirname)\n",
    "    else:\n",
    "        for root, dirs, files in os.walk(dirname):\n",
    "            for name in files:\n",
    "                filelist.append(os.path.join(root,name))\n",
    "    zf = zipfile.ZipFile(zipfilename, 'w', zipfile.zlib.DEFLATED)\n",
    "    for tar in filelist:\n",
    "        arcname = tar[len(dirname):]\n",
    "        zf.write(tar,arcname)\n",
    "    zf.close()\n",
    "zip_dir()"
   ]
  }
 ],
 "metadata": {
  "kernelspec": {
   "display_name": "Python 3",
   "language": "python",
   "name": "python3"
  },
  "language_info": {
   "codemirror_mode": {
    "name": "ipython",
    "version": 3
   },
   "file_extension": ".py",
   "mimetype": "text/x-python",
   "name": "python",
   "nbconvert_exporter": "python",
   "pygments_lexer": "ipython3",
   "version": "3.7.4"
  }
 },
 "nbformat": 4,
 "nbformat_minor": 2
}
